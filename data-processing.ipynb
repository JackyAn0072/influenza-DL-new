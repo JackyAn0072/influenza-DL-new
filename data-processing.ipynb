{
 "cells": [
  {
   "cell_type": "code",
   "execution_count": null,
   "metadata": {},
   "outputs": [
    {
     "name": "stdout",
     "output_type": "stream",
     "text": [
      "torch.Size([196, 65])\n",
      "['AK', 'AL', 'AR', 'AZ', 'CA']\n"
     ]
    }
   ],
   "source": [
    "import pandas as pd\n",
    "import torch\n",
    "\n",
    "df = pd.read_csv(\"/Users/jackyan/Desktop/Respiratory_Virus_Response__RVR__United_States_Hospitalization_Metrics_by_Jurisdiction__Timeseries___ARCHIVED.csv\")\n",
    "df_flu = df[[\"jurisdiction\", \"collection_date\", \"total_admissions_all_influenza_confirmed_past_7days\"]].copy()\n",
    "\n",
    "\n",
    "df_flu[\"value\"] = df_flu[\"total_admissions_all_influenza_confirmed_past_7days\"].fillna(0)\n",
    "df_flu[\"epiweek\"] = pd.to_datetime(df_flu[\"collection_date\"]).dt.isocalendar().year * 100 + pd.to_datetime(df_flu[\"collection_date\"]).dt.isocalendar().week\n",
    "df_pivot = df_flu.pivot_table(index=\"epiweek\", columns=\"jurisdiction\", values=\"value\", fill_value=0)\n",
    "\n",
    "tensor = torch.tensor(df_pivot.values, dtype=torch.float32)\n",
    "states = list(df_pivot.columns)\n",
    "\n",
    "\n",
    "print(tensor.shape)  \n",
    "print(states[:5])\n"
   ]
  },
  {
   "cell_type": "code",
   "execution_count": 3,
   "metadata": {},
   "outputs": [
    {
     "name": "stdout",
     "output_type": "stream",
     "text": [
      "['jurisdiction', 'collection_date', 'number_hospitals_reporting_today', 'total_hospitals', 'admissions_all_covid_confirmed', 'admissions_70_covid_confirmed', 'admissions_30_49_covid_confirmed', 'admissions_50_69_covid_confirmed', 'admissions_50_59_covid_confirmed', 'admissions_30_39_covid_confirmed', 'admissions_40_49_covid_confirmed', 'admissions_18_29_covid_confirmed', 'admissions_20_29_covid_confirmed', 'admissions_0_17_covid_confirmed', 'average_admissions_all_covid_confirmed', 'average_admissions_18_29_covid_confirmed', 'average_admissions_40_49_covid_confirmed', 'average_admissions_60_69_covid_confirmed', 'average_admissions_30_39_covid_confirmed', 'average_admissions_30_49_covid_confirmed', 'average_admissions_50_69_covid_confirmed', 'average_admissions_20_29_covid_confirmed', 'average_admissions_0_17_covid_confirmed', 'average_admissions_70_covid_confirmed', 'average_admissions_50_59_covid_confirmed', 'admissions_60_69_covid_confirmed', 'average_admissions_60_69_covid_confirmed_per_100k', 'average_admissions_0_17_covid_confirmed_per_100k', 'average_admissions_50_59_covid_confirmed_per_100k', 'average_admissions_all_covid_confirmed_per_100k', 'average_admissions_30_39_covid_confirmed_per_100k', 'average_admissions_40_49_covid_confirmed_per_100k', 'average_admissions_70_covid_confirmed_per_100k', 'average_admissions_50_69_covid_confirmed_per_100k', 'average_admissions_20_29_covid_confirmed_per_100k', 'average_admissions_30_49_covid_confirmed_per_100k', 'average_admissions_18_29_covid_confirmed_per_100k', 'total_admissions_all_covid_confirmed_past_7days_per_100k', 'percent_change_total_admissions_all_covid_confirmed_past_7days_per_100k', 'total_patients_hospitalized_covid_confirmed', 'average_total_patients_hospitalized_covid_confirmed', 'total_adult_patients_hospitalized_covid_confirmed', 'total_pediatric_patients_hospitalized_covid_confirmed', 'inpatient_beds', 'average_inpatient_beds', 'inpatient_adult_beds', 'inpatient_pediatric_beds', 'inpatient_beds_used', 'average_inpatient_beds_occupied', 'inpatient_adult_beds_used', 'inpatient_pediatric_beds_used', 'total_icu_beds', 'total_staffed_adult_icu_beds', 'total_staffed_pediatric_icu_beds', 'staff_icu_adult_patients_covid_confirmed', 'staff_icu_pediatric_patients_covid_confirmed', 'icu_beds_used', 'staff_adult_icu_beds_occupied', 'staff_pediatric_icu_beds_occupied', 'staff_icu_patients_covid_confirmed', 'percent_inpatient_beds_occupied', 'percent_adult_inpatient_beds_occupied', 'percent_pediatric_inpatient_beds_occupied', 'percent_inpatient_beds_covid', 'percent_adult_inpatient_beds_covid', 'percent_pediatric_inpatient_beds_covid', 'percent_staff_icu_beds_occupied', 'percent_staff_adult_icu_beds_occupied', 'percent_staff_pediatric_icu_beds_occupied', 'percent_staff_icu_beds_covid', 'percent_staff_adult_icu_beds_covid', 'percent_staff_pediatric_icu_beds_covid', 'average_percent_inpatient_beds_occupied', 'absolute_change_average_percent_inpatient_beds_occupied', 'average_percent_adult_inpatient_beds_occupied', 'average_percent_pediatric_inpatient_beds_occupied', 'average_percent_inpatient_beds_covid', 'average_percent_adult_inpatient_beds_covid', 'average_percent_pediatric_inpatient_beds_covid', 'average_percent_staff_icu_beds_occupied', 'absolute_change_average_percent_staff_icu_beds_occupied', 'average_percent_staff_adult_icu_beds_occupied', 'average_percent_staff_pediatric_icu_beds_occupied', 'average_percent_staff_icu_beds_covid', 'average_percent_staff_adult_icu_beds_covid', 'average_percent_staff_pediatric_icu_beds_covid', 'total_admissions_all_covid_confirmed_past_7days', 'percent_change_total_admissions_all_covid_confirmed_past_7days', 'absolute_change_average_percent_inpatient_beds_covid', 'absolute_change_average_percent_staff_icu_beds_covid', 'total_admissions_all_influenza_confirmed_past_7days', 'percent_change_total_admissions_all_influenza_confirmed_past_7days', 'total_admissions_all_influenza_confirmed_past_7days_per_100k', 'percent_change_total_admissions_all_influenza_confirmed_past_7days_per_100k', 'total_patients_hospitalized_influenza_confirmed', 'percent_inpatient_beds_influenza', 'average_percent_inpatient_beds_influenza', 'absolute_change_average_percent_inpatient_beds_influenza', 'icu_patients_influenza_confirmed', 'percent_staff_icu_beds_influenza', 'average_percent_staff_icu_beds_influenza', 'absolute_change_average_percent_staff_icu_beds_influenza', 'absolute_change_average_percent_adult_inpatient_beds_occupied', 'absolute_change_average_percent_pediatric_inpatient_beds_occupied', 'absolute_change_average_percent_staff_adult_icu_beds_occupied', 'absolute_change_average_percent_staff_pediatric_icu_beds_occupied', 'admissions_00_04_covid_confirmed', 'admissions_05_11_covid_confirmed', 'admissions_12_17_covid_confirmed', 'average_admissions_00_04_covid_confirmed', 'average_admissions_05_11_covid_confirmed', 'average_admissions_12_17_covid_confirmed', 'average_admissions_00_04_covid_confirmed_per_100k', 'average_admissions_05_11_covid_confirmed_per_100k', 'average_admissions_12_17_covid_confirmed_per_100k']\n"
     ]
    }
   ],
   "source": [
    "print(df.columns.tolist())\n"
   ]
  },
  {
   "cell_type": "code",
   "execution_count": 4,
   "metadata": {},
   "outputs": [],
   "source": [
    "torch.save({\"tensor\": tensor, \"states\": states}, \"data/test02_flu_counts.pt\")\n"
   ]
  }
 ],
 "metadata": {
  "kernelspec": {
   "display_name": "Python 3",
   "language": "python",
   "name": "python3"
  },
  "language_info": {
   "codemirror_mode": {
    "name": "ipython",
    "version": 3
   },
   "file_extension": ".py",
   "mimetype": "text/x-python",
   "name": "python",
   "nbconvert_exporter": "python",
   "pygments_lexer": "ipython3",
   "version": "3.13.0"
  }
 },
 "nbformat": 4,
 "nbformat_minor": 2
}
